{
 "cells": [
  {
   "cell_type": "code",
   "id": "initial_id",
   "metadata": {
    "collapsed": true,
    "ExecuteTime": {
     "end_time": "2024-11-16T15:37:17.285916Z",
     "start_time": "2024-11-16T15:37:17.270752Z"
    }
   },
   "source": [
    "import pandas as pd\n",
    "import numpy as np"
   ],
   "outputs": [],
   "execution_count": 15
  },
  {
   "metadata": {
    "ExecuteTime": {
     "end_time": "2024-11-16T15:37:17.688829Z",
     "start_time": "2024-11-16T15:37:17.318810Z"
    }
   },
   "cell_type": "code",
   "source": [
    "games_df = pd.read_csv('data/games.csv')\n",
    "games_df"
   ],
   "id": "8eba861caa2b2324",
   "outputs": [
    {
     "data": {
      "text/plain": [
       "       Unnamed: 0  Season        Date  HID  AID  N  POFF        Open  \\\n",
       "0               0       1  1975-11-07   13   28  0     0  1975-11-06   \n",
       "1               1       1  1975-11-07   20   12  0     0  1975-11-06   \n",
       "2               2       1  1975-11-07   43    8  0     0  1975-11-06   \n",
       "3               3       1  1975-11-07   33    4  0     0  1975-11-06   \n",
       "4               4       1  1975-11-07   41   34  0     0  1975-11-06   \n",
       "...           ...     ...         ...  ...  ... ..   ...         ...   \n",
       "28985       28985      24  1999-06-15   41   17  0     1  1999-06-14   \n",
       "28986       28986      24  1999-06-17   41   17  0     1  1999-06-16   \n",
       "28987       28987      24  1999-06-20   41   17  0     1  1999-06-19   \n",
       "28988       28988      24  1999-06-22   17   41  0     1  1999-06-21   \n",
       "28989       28989      24  1999-06-24   17   41  0     1  1999-06-23   \n",
       "\n",
       "          OddsH     OddsA  ...  HAST  AAST  HSTL  ASTL  HBLK  ABLK  HTOV  \\\n",
       "0      1.196537  4.833232  ...  26.0  26.0   7.0  14.0   5.0   4.0  25.0   \n",
       "1      1.394620  2.957488  ...  14.0  21.0   7.0   5.0   5.0   2.0  22.0   \n",
       "2      1.502570  2.536599  ...  29.0  26.0   9.0  15.0  10.0   3.0  23.0   \n",
       "3      1.275743  3.778120  ...  36.0  27.0   9.0   7.0   7.0   4.0  13.0   \n",
       "4      1.112895  7.379109  ...  31.0  18.0   5.0  10.0   6.0   6.0  18.0   \n",
       "...         ...       ...  ...   ...   ...   ...   ...   ...   ...   ...   \n",
       "28985  1.488863  2.580145  ...  20.0  13.0   4.0   2.0   2.0   7.0  10.0   \n",
       "28986  1.559415  2.377968  ...  15.0  13.0  12.0   6.0   2.0   3.0  12.0   \n",
       "28987  1.521256  2.480785  ...  21.0  12.0   8.0   9.0   7.0   1.0  17.0   \n",
       "28988  1.496122  2.556796  ...  17.0  17.0  13.0   8.0   8.0   4.0  13.0   \n",
       "28989  1.433385  2.783270  ...  11.0  18.0   7.0   6.0   3.0   7.0  11.0   \n",
       "\n",
       "       ATOV   HPF   APF  \n",
       "0      14.0  27.0  26.0  \n",
       "1      21.0  31.0  33.0  \n",
       "2      18.0  19.0  31.0  \n",
       "3      17.0  18.0  22.0  \n",
       "4      22.0  27.0  25.0  \n",
       "...     ...   ...   ...  \n",
       "28985   9.0  27.0  20.0  \n",
       "28986  16.0  21.0  23.0  \n",
       "28987  14.0  23.0  22.0  \n",
       "28988  14.0  17.0  21.0  \n",
       "28989  15.0  19.0  25.0  \n",
       "\n",
       "[28990 rows x 42 columns]"
      ],
      "text/html": [
       "<div>\n",
       "<style scoped>\n",
       "    .dataframe tbody tr th:only-of-type {\n",
       "        vertical-align: middle;\n",
       "    }\n",
       "\n",
       "    .dataframe tbody tr th {\n",
       "        vertical-align: top;\n",
       "    }\n",
       "\n",
       "    .dataframe thead th {\n",
       "        text-align: right;\n",
       "    }\n",
       "</style>\n",
       "<table border=\"1\" class=\"dataframe\">\n",
       "  <thead>\n",
       "    <tr style=\"text-align: right;\">\n",
       "      <th></th>\n",
       "      <th>Unnamed: 0</th>\n",
       "      <th>Season</th>\n",
       "      <th>Date</th>\n",
       "      <th>HID</th>\n",
       "      <th>AID</th>\n",
       "      <th>N</th>\n",
       "      <th>POFF</th>\n",
       "      <th>Open</th>\n",
       "      <th>OddsH</th>\n",
       "      <th>OddsA</th>\n",
       "      <th>...</th>\n",
       "      <th>HAST</th>\n",
       "      <th>AAST</th>\n",
       "      <th>HSTL</th>\n",
       "      <th>ASTL</th>\n",
       "      <th>HBLK</th>\n",
       "      <th>ABLK</th>\n",
       "      <th>HTOV</th>\n",
       "      <th>ATOV</th>\n",
       "      <th>HPF</th>\n",
       "      <th>APF</th>\n",
       "    </tr>\n",
       "  </thead>\n",
       "  <tbody>\n",
       "    <tr>\n",
       "      <th>0</th>\n",
       "      <td>0</td>\n",
       "      <td>1</td>\n",
       "      <td>1975-11-07</td>\n",
       "      <td>13</td>\n",
       "      <td>28</td>\n",
       "      <td>0</td>\n",
       "      <td>0</td>\n",
       "      <td>1975-11-06</td>\n",
       "      <td>1.196537</td>\n",
       "      <td>4.833232</td>\n",
       "      <td>...</td>\n",
       "      <td>26.0</td>\n",
       "      <td>26.0</td>\n",
       "      <td>7.0</td>\n",
       "      <td>14.0</td>\n",
       "      <td>5.0</td>\n",
       "      <td>4.0</td>\n",
       "      <td>25.0</td>\n",
       "      <td>14.0</td>\n",
       "      <td>27.0</td>\n",
       "      <td>26.0</td>\n",
       "    </tr>\n",
       "    <tr>\n",
       "      <th>1</th>\n",
       "      <td>1</td>\n",
       "      <td>1</td>\n",
       "      <td>1975-11-07</td>\n",
       "      <td>20</td>\n",
       "      <td>12</td>\n",
       "      <td>0</td>\n",
       "      <td>0</td>\n",
       "      <td>1975-11-06</td>\n",
       "      <td>1.394620</td>\n",
       "      <td>2.957488</td>\n",
       "      <td>...</td>\n",
       "      <td>14.0</td>\n",
       "      <td>21.0</td>\n",
       "      <td>7.0</td>\n",
       "      <td>5.0</td>\n",
       "      <td>5.0</td>\n",
       "      <td>2.0</td>\n",
       "      <td>22.0</td>\n",
       "      <td>21.0</td>\n",
       "      <td>31.0</td>\n",
       "      <td>33.0</td>\n",
       "    </tr>\n",
       "    <tr>\n",
       "      <th>2</th>\n",
       "      <td>2</td>\n",
       "      <td>1</td>\n",
       "      <td>1975-11-07</td>\n",
       "      <td>43</td>\n",
       "      <td>8</td>\n",
       "      <td>0</td>\n",
       "      <td>0</td>\n",
       "      <td>1975-11-06</td>\n",
       "      <td>1.502570</td>\n",
       "      <td>2.536599</td>\n",
       "      <td>...</td>\n",
       "      <td>29.0</td>\n",
       "      <td>26.0</td>\n",
       "      <td>9.0</td>\n",
       "      <td>15.0</td>\n",
       "      <td>10.0</td>\n",
       "      <td>3.0</td>\n",
       "      <td>23.0</td>\n",
       "      <td>18.0</td>\n",
       "      <td>19.0</td>\n",
       "      <td>31.0</td>\n",
       "    </tr>\n",
       "    <tr>\n",
       "      <th>3</th>\n",
       "      <td>3</td>\n",
       "      <td>1</td>\n",
       "      <td>1975-11-07</td>\n",
       "      <td>33</td>\n",
       "      <td>4</td>\n",
       "      <td>0</td>\n",
       "      <td>0</td>\n",
       "      <td>1975-11-06</td>\n",
       "      <td>1.275743</td>\n",
       "      <td>3.778120</td>\n",
       "      <td>...</td>\n",
       "      <td>36.0</td>\n",
       "      <td>27.0</td>\n",
       "      <td>9.0</td>\n",
       "      <td>7.0</td>\n",
       "      <td>7.0</td>\n",
       "      <td>4.0</td>\n",
       "      <td>13.0</td>\n",
       "      <td>17.0</td>\n",
       "      <td>18.0</td>\n",
       "      <td>22.0</td>\n",
       "    </tr>\n",
       "    <tr>\n",
       "      <th>4</th>\n",
       "      <td>4</td>\n",
       "      <td>1</td>\n",
       "      <td>1975-11-07</td>\n",
       "      <td>41</td>\n",
       "      <td>34</td>\n",
       "      <td>0</td>\n",
       "      <td>0</td>\n",
       "      <td>1975-11-06</td>\n",
       "      <td>1.112895</td>\n",
       "      <td>7.379109</td>\n",
       "      <td>...</td>\n",
       "      <td>31.0</td>\n",
       "      <td>18.0</td>\n",
       "      <td>5.0</td>\n",
       "      <td>10.0</td>\n",
       "      <td>6.0</td>\n",
       "      <td>6.0</td>\n",
       "      <td>18.0</td>\n",
       "      <td>22.0</td>\n",
       "      <td>27.0</td>\n",
       "      <td>25.0</td>\n",
       "    </tr>\n",
       "    <tr>\n",
       "      <th>...</th>\n",
       "      <td>...</td>\n",
       "      <td>...</td>\n",
       "      <td>...</td>\n",
       "      <td>...</td>\n",
       "      <td>...</td>\n",
       "      <td>...</td>\n",
       "      <td>...</td>\n",
       "      <td>...</td>\n",
       "      <td>...</td>\n",
       "      <td>...</td>\n",
       "      <td>...</td>\n",
       "      <td>...</td>\n",
       "      <td>...</td>\n",
       "      <td>...</td>\n",
       "      <td>...</td>\n",
       "      <td>...</td>\n",
       "      <td>...</td>\n",
       "      <td>...</td>\n",
       "      <td>...</td>\n",
       "      <td>...</td>\n",
       "      <td>...</td>\n",
       "    </tr>\n",
       "    <tr>\n",
       "      <th>28985</th>\n",
       "      <td>28985</td>\n",
       "      <td>24</td>\n",
       "      <td>1999-06-15</td>\n",
       "      <td>41</td>\n",
       "      <td>17</td>\n",
       "      <td>0</td>\n",
       "      <td>1</td>\n",
       "      <td>1999-06-14</td>\n",
       "      <td>1.488863</td>\n",
       "      <td>2.580145</td>\n",
       "      <td>...</td>\n",
       "      <td>20.0</td>\n",
       "      <td>13.0</td>\n",
       "      <td>4.0</td>\n",
       "      <td>2.0</td>\n",
       "      <td>2.0</td>\n",
       "      <td>7.0</td>\n",
       "      <td>10.0</td>\n",
       "      <td>9.0</td>\n",
       "      <td>27.0</td>\n",
       "      <td>20.0</td>\n",
       "    </tr>\n",
       "    <tr>\n",
       "      <th>28986</th>\n",
       "      <td>28986</td>\n",
       "      <td>24</td>\n",
       "      <td>1999-06-17</td>\n",
       "      <td>41</td>\n",
       "      <td>17</td>\n",
       "      <td>0</td>\n",
       "      <td>1</td>\n",
       "      <td>1999-06-16</td>\n",
       "      <td>1.559415</td>\n",
       "      <td>2.377968</td>\n",
       "      <td>...</td>\n",
       "      <td>15.0</td>\n",
       "      <td>13.0</td>\n",
       "      <td>12.0</td>\n",
       "      <td>6.0</td>\n",
       "      <td>2.0</td>\n",
       "      <td>3.0</td>\n",
       "      <td>12.0</td>\n",
       "      <td>16.0</td>\n",
       "      <td>21.0</td>\n",
       "      <td>23.0</td>\n",
       "    </tr>\n",
       "    <tr>\n",
       "      <th>28987</th>\n",
       "      <td>28987</td>\n",
       "      <td>24</td>\n",
       "      <td>1999-06-20</td>\n",
       "      <td>41</td>\n",
       "      <td>17</td>\n",
       "      <td>0</td>\n",
       "      <td>1</td>\n",
       "      <td>1999-06-19</td>\n",
       "      <td>1.521256</td>\n",
       "      <td>2.480785</td>\n",
       "      <td>...</td>\n",
       "      <td>21.0</td>\n",
       "      <td>12.0</td>\n",
       "      <td>8.0</td>\n",
       "      <td>9.0</td>\n",
       "      <td>7.0</td>\n",
       "      <td>1.0</td>\n",
       "      <td>17.0</td>\n",
       "      <td>14.0</td>\n",
       "      <td>23.0</td>\n",
       "      <td>22.0</td>\n",
       "    </tr>\n",
       "    <tr>\n",
       "      <th>28988</th>\n",
       "      <td>28988</td>\n",
       "      <td>24</td>\n",
       "      <td>1999-06-22</td>\n",
       "      <td>17</td>\n",
       "      <td>41</td>\n",
       "      <td>0</td>\n",
       "      <td>1</td>\n",
       "      <td>1999-06-21</td>\n",
       "      <td>1.496122</td>\n",
       "      <td>2.556796</td>\n",
       "      <td>...</td>\n",
       "      <td>17.0</td>\n",
       "      <td>17.0</td>\n",
       "      <td>13.0</td>\n",
       "      <td>8.0</td>\n",
       "      <td>8.0</td>\n",
       "      <td>4.0</td>\n",
       "      <td>13.0</td>\n",
       "      <td>14.0</td>\n",
       "      <td>17.0</td>\n",
       "      <td>21.0</td>\n",
       "    </tr>\n",
       "    <tr>\n",
       "      <th>28989</th>\n",
       "      <td>28989</td>\n",
       "      <td>24</td>\n",
       "      <td>1999-06-24</td>\n",
       "      <td>17</td>\n",
       "      <td>41</td>\n",
       "      <td>0</td>\n",
       "      <td>1</td>\n",
       "      <td>1999-06-23</td>\n",
       "      <td>1.433385</td>\n",
       "      <td>2.783270</td>\n",
       "      <td>...</td>\n",
       "      <td>11.0</td>\n",
       "      <td>18.0</td>\n",
       "      <td>7.0</td>\n",
       "      <td>6.0</td>\n",
       "      <td>3.0</td>\n",
       "      <td>7.0</td>\n",
       "      <td>11.0</td>\n",
       "      <td>15.0</td>\n",
       "      <td>19.0</td>\n",
       "      <td>25.0</td>\n",
       "    </tr>\n",
       "  </tbody>\n",
       "</table>\n",
       "<p>28990 rows × 42 columns</p>\n",
       "</div>"
      ]
     },
     "execution_count": 16,
     "metadata": {},
     "output_type": "execute_result"
    }
   ],
   "execution_count": 16
  },
  {
   "metadata": {
    "ExecuteTime": {
     "end_time": "2024-11-16T15:37:17.789702Z",
     "start_time": "2024-11-16T15:37:17.772245Z"
    }
   },
   "cell_type": "code",
   "source": [
    "team_ids = games_df['AID'].unique()\n",
    "team_ids.sort()\n",
    "team_ids"
   ],
   "id": "e4ddd14e5564be84",
   "outputs": [
    {
     "data": {
      "text/plain": [
       "array([ 0,  1,  2,  3,  4,  5,  8, 11, 12, 13, 15, 16, 17, 18, 19, 20, 21,\n",
       "       22, 24, 25, 28, 30, 33, 34, 35, 39, 41, 42, 43, 44])"
      ]
     },
     "execution_count": 17,
     "metadata": {},
     "output_type": "execute_result"
    }
   ],
   "execution_count": 17
  },
  {
   "metadata": {
    "ExecuteTime": {
     "end_time": "2024-11-16T15:37:17.897067Z",
     "start_time": "2024-11-16T15:37:17.886763Z"
    }
   },
   "cell_type": "code",
   "source": "games_df['Season'].unique()",
   "id": "e31d0704d428f8",
   "outputs": [
    {
     "data": {
      "text/plain": [
       "array([ 1,  2,  3,  4,  5,  6,  7,  8,  9, 10, 11, 12, 13, 14, 15, 16, 17,\n",
       "       18, 19, 20, 21, 22, 23, 24])"
      ]
     },
     "execution_count": 18,
     "metadata": {},
     "output_type": "execute_result"
    }
   ],
   "execution_count": 18
  },
  {
   "metadata": {
    "ExecuteTime": {
     "end_time": "2024-11-16T15:37:17.944136Z",
     "start_time": "2024-11-16T15:37:17.934077Z"
    }
   },
   "cell_type": "code",
   "source": [
    "a = games_df['HID'].unique()\n",
    "a.sort()\n",
    "a"
   ],
   "id": "da9c82655fc995b6",
   "outputs": [
    {
     "data": {
      "text/plain": [
       "array([ 0,  1,  2,  3,  4,  5,  8, 11, 12, 13, 15, 16, 17, 18, 19, 20, 21,\n",
       "       22, 24, 25, 28, 30, 33, 34, 35, 39, 41, 42, 43, 44])"
      ]
     },
     "execution_count": 19,
     "metadata": {},
     "output_type": "execute_result"
    }
   ],
   "execution_count": 19
  },
  {
   "metadata": {
    "ExecuteTime": {
     "end_time": "2024-11-16T15:37:18.631722Z",
     "start_time": "2024-11-16T15:37:18.122035Z"
    }
   },
   "cell_type": "code",
   "source": [
    "import pandas as pd\n",
    "import matplotlib.pyplot as plt\n",
    "\n",
    "# Ensure 'Date' column is in datetime format\n",
    "games_df['Date'] = pd.to_datetime(games_df['Date'])\n",
    "\n",
    "# Extract the month from the Date\n",
    "games_df['Month'] = games_df['Date'].dt.month\n",
    "\n",
    "# Plot the histogram with 12 bins (one for each month)\n",
    "plt.figure(figsize=(10, 6))\n",
    "plt.hist(games_df['Month'], bins=12, range=(1, 13), edgecolor='black')\n",
    "plt.xlabel('Month')\n",
    "plt.ylabel('Frequency')\n",
    "plt.title('Histogram of Games by Month')\n",
    "plt.xticks(range(1, 13), ['Jan', 'Feb', 'Mar', 'Apr', 'May', 'Jun', \n",
    "                           'Jul', 'Aug', 'Sep', 'Oct', 'Nov', 'Dec'])\n",
    "plt.grid(True)\n",
    "plt.show()\n"
   ],
   "id": "7605d0952d1ed605",
   "outputs": [
    {
     "data": {
      "text/plain": [
       "<Figure size 1000x600 with 1 Axes>"
      ],
      "image/png": "[encoded data removed]"
     },
     "metadata": {},
     "output_type": "display_data"
    }
   ],
   "execution_count": 20
  },
  {
   "metadata": {
    "ExecuteTime": {
     "end_time": "2024-11-16T15:37:18.652297Z",
     "start_time": "2024-11-16T15:37:18.640732Z"
    }
   },
   "cell_type": "code",
   "source": [
    "min_value = games_df['OddsH'].min()\n",
    "min_value"
   ],
   "id": "88b8093d1db736d6",
   "outputs": [
    {
     "data": {
      "text/plain": [
       "np.float64(1.0141041506950876)"
      ]
     },
     "execution_count": 21,
     "metadata": {},
     "output_type": "execute_result"
    }
   ],
   "execution_count": 21
  },
  {
   "metadata": {
    "ExecuteTime": {
     "end_time": "2024-11-16T15:37:18.688552Z",
     "start_time": "2024-11-16T15:37:18.681931Z"
    }
   },
   "cell_type": "code",
   "source": [
    "min_value = games_df['OddsA'].min()\n",
    "min_value"
   ],
   "id": "9ebbb4b8731734ce",
   "outputs": [
    {
     "data": {
      "text/plain": [
       "np.float64(1.0528865522791433)"
      ]
     },
     "execution_count": 22,
     "metadata": {},
     "output_type": "execute_result"
    }
   ],
   "execution_count": 22
  },
  {
   "metadata": {
    "ExecuteTime": {
     "end_time": "2024-11-16T15:37:18.732123Z",
     "start_time": "2024-11-16T15:37:18.726281Z"
    }
   },
   "cell_type": "code",
   "source": [
    "import numpy as np\n",
    "\n",
    "# Example arrays\n",
    "array1 = np.array([[1, 2],\n",
    "                   [3, 4]])\n",
    "array2 = np.array([[5, 6],\n",
    "                   [7, 8]])\n",
    "\n",
    "# Multiply element-wise and sum\n",
    "result = np.sum(array1 * array2)\n",
    "print(result)"
   ],
   "id": "3e36b4ea35bc6ed6",
   "outputs": [
    {
     "name": "stdout",
     "output_type": "stream",
     "text": [
      "70\n"
     ]
    }
   ],
   "execution_count": 23
  },
  {
   "metadata": {
    "ExecuteTime": {
     "end_time": "2024-11-16T15:37:18.775141Z",
     "start_time": "2024-11-16T15:37:18.765337Z"
    }
   },
   "cell_type": "code",
   "source": "array1.flatten() * array2.flatten()",
   "id": "99682c5c33a88ca1",
   "outputs": [
    {
     "data": {
      "text/plain": [
       "array([ 5, 12, 21, 32])"
      ]
     },
     "execution_count": 24,
     "metadata": {},
     "output_type": "execute_result"
    }
   ],
   "execution_count": 24
  },
  {
   "metadata": {
    "ExecuteTime": {
     "end_time": "2024-11-23T09:22:04.740617Z",
     "start_time": "2024-11-23T09:22:00.932949Z"
    }
   },
   "cell_type": "code",
   "source": [
    "import pandas as pd\n",
    "\n",
    "# File paths\n",
    "file1 = 'data/games.csv'\n",
    "file2 = 'data final/games.csv'\n",
    "output_file = 'all_games.csv'\n",
    "\n",
    "# Read the CSV files\n",
    "df1 = pd.read_csv(file1)\n",
    "df2 = pd.read_csv(file2)\n",
    "\n",
    "# Merge the DataFrames\n",
    "merged_df = pd.concat([df1, df2], ignore_index=True)\n",
    "\n",
    "# Save the merged DataFrame to a new CSV file\n",
    "merged_df.to_csv(output_file, index=False)\n",
    "\n",
    "print(f\"Merged file saved as '{output_file}'\")\n"
   ],
   "id": "4676978749e3af3c",
   "outputs": [
    {
     "name": "stdout",
     "output_type": "stream",
     "text": [
      "Merged file saved as 'all_games.csv'\n"
     ]
    }
   ],
   "execution_count": 1
  }
 ],
 "metadata": {
  "kernelspec": {
   "display_name": "Python 3",
   "language": "python",
   "name": "python3"
  },
  "language_info": {
   "codemirror_mode": {
    "name": "ipython",
    "version": 2
   },
   "file_extension": ".py",
   "mimetype": "text/x-python",
   "name": "python",
   "nbconvert_exporter": "python",
   "pygments_lexer": "ipython2",
   "version": "2.7.6"
  }
 },
 "nbformat": 4,
 "nbformat_minor": 5
}
